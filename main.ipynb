{
  "cells": [
    {
      "cell_type": "markdown",
      "metadata": {
        "id": "d9JlQiBwAPsk"
      },
      "source": [
        "# Notebook di Test per Google Colab\n",
        "Questo notebook serve per verificare che l'integrazione con GitHub funzioni correttamente."
      ]
    },
    {
      "cell_type": "code",
      "execution_count": null,
      "metadata": {
        "id": "zZQsR6rYAPsn"
      },
      "outputs": [],
      "source": [
        "# Stampa un messaggio di test\n",
        "print(\"Ciao, Google Colab è connesso correttamente!\")"
      ]
    },
    {
      "cell_type": "code",
      "execution_count": null,
      "metadata": {
        "id": "ANNc6lXiAPsp"
      },
      "outputs": [],
      "source": [
        "# Importa una libreria e stampa la versione\n",
        "import numpy as np\n",
        "print(f'Versione NumPy: {np.__version__}')"
      ]
    },
    {
      "cell_type": "code",
      "source": [],
      "metadata": {
        "id": "o8SduSAvA3Z-"
      },
      "execution_count": null,
      "outputs": []
    }
  ],
  "metadata": {
    "kernelspec": {
      "display_name": "Python 3",
      "language": "python",
      "name": "python3"
    },
    "language_info": {
      "codemirror_mode": {
        "name": "ipython",
        "version": 3
      },
      "file_extension": ".py",
      "mimetype": "text/x-python",
      "name": "python",
      "nbconvert_exporter": "python",
      "pygments_lexer": "ipython3",
      "version": "3.7.10"
    },
    "colab": {
      "provenance": []
    }
  },
  "nbformat": 4,
  "nbformat_minor": 0
}