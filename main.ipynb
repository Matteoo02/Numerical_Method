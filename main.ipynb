{
  "cells": [
    {
      "cell_type": "markdown",
      "metadata": {},
      "source": [
        "# Notebook di Test per Google Colab\n",
        "Questo notebook serve per verificare che l'integrazione con GitHub funzioni correttamente."
      ]
    },
    {
      "cell_type": "code",
      "execution_count": null,
      "metadata": {},
      "outputs": [],
      "source": [
        "# Stampa un messaggio di test\n",
        "print(\"Ciao, Google Colab è connesso correttamente!\")"
      ]
    },
    
